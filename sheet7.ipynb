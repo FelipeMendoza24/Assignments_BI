{
 "cells": [
  {
   "cell_type": "markdown",
   "metadata": {},
   "source": [
    "# Sheet 7\n",
    "\n",
    "Integrantes: Felipe Mendoza Navarrete, Sofía Macias Pérez y Mariana Ramirez Gomez."
   ]
  },
  {
   "cell_type": "markdown",
   "metadata": {},
   "source": [
    "## Exercise 1:"
   ]
  },
  {
   "cell_type": "markdown",
   "metadata": {},
   "source": [
    "### 1.3:"
   ]
  },
  {
   "cell_type": "markdown",
   "metadata": {},
   "source": [
    "#### Part A:\n",
    "\n",
    "1. Confidence of $R: X \\rightarrow Y$ :\n",
    "    $$\n",
    "    \\operatorname{conf}(R)=\\frac{\\operatorname{supp}(X Y)}{\\operatorname{supp}(X)}\n",
    "    $$\n",
    "2. Confidence of $R^{\\prime}: X \\rightarrow W$ :\n",
    "\n",
    "    Dado que $Y \\subseteq W$ y $\\operatorname{supp}(X Y)=\\operatorname{supp}(X Y Z)$, tenemos que $\\operatorname{supp}(X W)=\\operatorname{supp}(X Y)$.\n",
    "    Entonces:\n",
    "    $$\n",
    "    \\operatorname{conf}\\left(R^{\\prime}\\right)=\\frac{\\operatorname{supp}(X W)}{\\operatorname{supp}(X)}=\\frac{\\operatorname{supp}(X Y)}{\\operatorname{supp}(X)}=\\operatorname{conf}(R)\n",
    "    $$\n",
    "\n",
    "    Asi que, $\\operatorname{conf}(R)=\\operatorname{conf}\\left(R^{\\prime}\\right)$.\n",
    "\n",
    "3. Confianza de $X \\rightarrow \\neg Y$ y $X \\rightarrow \\neg W$ :\n",
    "    - La confianza de $X \\rightarrow \\neg Y$ es:\n",
    "    $$\n",
    "    \\operatorname{conf}(X \\rightarrow \\neg Y)=1-\\operatorname{conf}(X \\rightarrow Y)=1-\\frac{\\operatorname{supp}(X Y)}{\\operatorname{supp}(X)}\n",
    "    $$\n",
    "    - La confianza de $X \\rightarrow \\neg W$ es:\n",
    "    $$\n",
    "    \\operatorname{conf}(X \\rightarrow \\neg W)=1-\\operatorname{conf}(X \\rightarrow W)=1-\\frac{\\operatorname{supp}(X W)}{\\operatorname{supp}(X)}\n",
    "    $$\n",
    "    - $\\operatorname{Como} \\operatorname{supp}(X W)=\\operatorname{supp}(X Y)$, tenemos $\\operatorname{conf}(X \\rightarrow \\neg Y)=\\operatorname{conf}(X \\rightarrow \\neg W)$.\n",
    "    \n",
    "#### Part B:\n",
    "\n",
    "1. Lift of $X \\rightarrow Y$ :\n",
    "    $$\n",
    "    \\operatorname{lift}(X \\rightarrow Y)=\\frac{\\operatorname{conf}(X \\rightarrow Y)}{\\operatorname{supp}(Y)}=\\frac{\\operatorname{supp}(X Y) / \\operatorname{supp}(X)}{\\operatorname{supp}(Y)}=\\frac{\\operatorname{supp}(X Y)}{\\operatorname{supp}(X) \\cdot \\operatorname{supp}(Y)}\n",
    "    $$\n",
    "2. Lift of $X \\rightarrow W$ :\n",
    "    $$\n",
    "    \\operatorname{lift}(X \\rightarrow W)=\\frac{\\operatorname{conf}(X \\rightarrow W)}{\\operatorname{supp}(W)}=\\frac{\\operatorname{supp}(X W) / \\operatorname{supp}(X)}{\\operatorname{supp}(W)}=\\frac{\\operatorname{supp}(X W)}{\\operatorname{supp}(X) \\cdot \\operatorname{supp}(W)}\n",
    "    $$\n",
    "\n",
    "    Como $\\operatorname{supp}(X W)=\\operatorname{supp}(X Y)$:\n",
    "    $$\n",
    "    \\operatorname{lift}(X \\rightarrow W)=\\frac{\\operatorname{supp}(X Y)}{\\operatorname{supp}(X) \\cdot \\operatorname{supp}(W)}\n",
    "    $$\n",
    "3. Comparison: Como $Y \\subseteq W$, tenemos $\\operatorname{supp}(W) \\leq \\operatorname{supp}(Y)$. Entonces, $\\frac{1}{\\operatorname{supp}(W)} \\geq \\frac{1}{\\operatorname{supp}(Y)}$\n",
    "\n",
    "    Así que,\n",
    "    $$\n",
    "    \\operatorname{lift}(X \\rightarrow W)=\\frac{\\operatorname{supp}(X Y)}{\\operatorname{supp}(X) \\cdot \\operatorname{supp}(W)} \\geq \\frac{\\operatorname{supp}(X Y)}{\\operatorname{supp}(X) \\cdot \\operatorname{supp}(Y)}=\\operatorname{lift}(X \\rightarrow Y)\n",
    "    $$\n",
    "\n",
    "#### Part C:\n",
    "\n",
    "1. Conviction of $X \\rightarrow Y$ :\n",
    "    $$\n",
    "    \\operatorname{conv}(X \\rightarrow Y)=\\frac{1-\\operatorname{supp}(Y)}{1-\\operatorname{conf}(X \\rightarrow Y)}=\\frac{1-\\operatorname{supp}(Y)}{1-\\frac{\\operatorname{supp}(X Y)}{\\operatorname{supp}(X)}}\n",
    "    $$\n",
    "2. Conviction of $X \\rightarrow W$ :\n",
    "    $$\n",
    "    \\operatorname{conv}(X \\rightarrow W)=\\frac{1-\\operatorname{supp}(W)}{1-\\operatorname{conf}(X \\rightarrow W)}=\\frac{1-\\operatorname{supp}(W)}{1-\\frac{\\operatorname{supp}(X W)}{\\operatorname{supp}(X)}}\n",
    "    $$\n",
    "\n",
    "    Como $\\operatorname{supp}(X W)=\\operatorname{supp}(X Y)$, tenemos que:\n",
    "    $$\n",
    "    \\operatorname{conv}(X \\rightarrow W)=\\frac{1-\\operatorname{supp}(W)}{1-\\frac{\\operatorname{supp}(X Y)}{\\operatorname{supp}(X)}}\n",
    "    $$\n",
    "3. Comparison: Como $\\operatorname{supp}(W) \\leq \\operatorname{supp}(Y)$, tenemos que $1-\\operatorname{supp}(W) \\geq 1-\\operatorname{supp}(Y)$.\n",
    "\n",
    "    Entonces,\n",
    "    $$\n",
    "    \\operatorname{conv}(X \\rightarrow W)=\\frac{1-\\operatorname{supp}(W)}{1-\\frac{\\operatorname{supp}(X Y)}{\\operatorname{supp}(X)}} \\geq \\frac{1-\\operatorname{supp}(Y)}{1-\\frac{\\operatorname{supp}(X Y)}{\\operatorname{supp}(X)}}=\\operatorname{conv}(X \\rightarrow Y)\n",
    "    $$"
   ]
  },
  {
   "cell_type": "markdown",
   "metadata": {},
   "source": [
    "## Exercise 2:"
   ]
  },
  {
   "cell_type": "code",
   "execution_count": 1,
   "metadata": {},
   "outputs": [],
   "source": [
    "from collections import Counter\n",
    "\n",
    "def sup(D, X, Y=None):\n",
    "    X_count = sum(1 for transaction in D if set(X).issubset(transaction))\n",
    "    if Y:\n",
    "        XY_count = sum(1 for transaction in D if set(X).issubset(transaction) and set(Y).issubset(transaction))\n",
    "        return XY_count / len(D)\n",
    "    return X_count / len(D)\n",
    "\n",
    "def conf(D, X, Y):\n",
    "    X_count = sum(1 for transaction in D if set(X).issubset(transaction))\n",
    "    XY_count = sum(1 for transaction in D if set(X).issubset(transaction) and set(Y).issubset(transaction))\n",
    "    return XY_count / X_count if X_count else 0\n",
    "\n",
    "def lift(D, X, Y):\n",
    "    sup_X = sup(D, X)\n",
    "    sup_Y = sup(D, Y)\n",
    "    sup_XY = sup(D, X, Y)\n",
    "    return sup_XY / (sup_X * sup_Y) if sup_X * sup_Y else 0\n",
    "\n",
    "def leverage(D, X, Y):\n",
    "    sup_X = sup(D, X)\n",
    "    sup_Y = sup(D, Y)\n",
    "    sup_XY = sup(D, X, Y)\n",
    "    return sup_XY - (sup_X * sup_Y)\n",
    "\n",
    "def jaccard(D, X, Y):\n",
    "    sup_XY = sup(D, X, Y)\n",
    "    sup_X_or_Y = sum(1 for transaction in D if set(X).issubset(transaction) or set(Y).issubset(transaction)) / len(D)\n",
    "    return sup_XY / sup_X_or_Y if sup_X_or_Y else 0\n",
    "\n",
    "def conviction(D, X, Y):\n",
    "    sup_X = sup(D, X)\n",
    "    sup_not_Y = 1 - sup(D, Y)\n",
    "    conf_XY = conf(D, X, Y)\n",
    "    return (sup_X * sup_not_Y) / (1 - conf_XY) if (1 - conf_XY) else float('inf')\n",
    "\n",
    "def oddsRatio(D, X, Y):\n",
    "    sup_XY = sup(D, X, Y)\n",
    "    sup_X = sup(D, X)\n",
    "    sup_Y = sup(D, Y)\n",
    "    sup_not_XY = 1 - sup_XY\n",
    "    sup_X_not_Y = sup_X - sup_XY\n",
    "    sup_not_X_Y = sup_Y - sup_XY\n",
    "    return (sup_XY * sup_not_XY) / (sup_X_not_Y * sup_not_X_Y) if (sup_X_not_Y * sup_not_X_Y) else 0\n",
    "\n",
    "def getRuleMetric(D, X, Y, metric):\n",
    "    metric_function = {\n",
    "        'sup': sup,\n",
    "        'conf': conf,\n",
    "        'lift': lift,\n",
    "        'leverage': leverage,\n",
    "        'jaccard': jaccard,\n",
    "        'conviction': conviction,\n",
    "        'oddsratio': oddsRatio\n",
    "    }\n",
    "    if metric in metric_function:\n",
    "        return metric_function[metric](D, X, Y)\n",
    "    else:\n",
    "        raise ValueError(f\"Metric '{metric}' is not recognized.\")\n"
   ]
  },
  {
   "cell_type": "markdown",
   "metadata": {},
   "source": [
    "### 2.2:"
   ]
  },
  {
   "cell_type": "code",
   "execution_count": 3,
   "metadata": {},
   "outputs": [],
   "source": []
  },
  {
   "cell_type": "markdown",
   "metadata": {},
   "source": [
    "### 2.3:"
   ]
  },
  {
   "cell_type": "code",
   "execution_count": null,
   "metadata": {},
   "outputs": [],
   "source": [
    "\n"
   ]
  }
 ],
 "metadata": {
  "kernelspec": {
   "display_name": ".venv",
   "language": "python",
   "name": "python3"
  },
  "language_info": {
   "codemirror_mode": {
    "name": "ipython",
    "version": 3
   },
   "file_extension": ".py",
   "mimetype": "text/x-python",
   "name": "python",
   "nbconvert_exporter": "python",
   "pygments_lexer": "ipython3",
   "version": "3.12.4"
  }
 },
 "nbformat": 4,
 "nbformat_minor": 2
}
